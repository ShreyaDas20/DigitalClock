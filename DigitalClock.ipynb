{
 "cells": [
  {
   "cell_type": "markdown",
   "id": "c3ab2a3f",
   "metadata": {},
   "source": [
    "# Importing Modules"
   ]
  },
  {
   "cell_type": "code",
   "execution_count": 17,
   "id": "24912677",
   "metadata": {},
   "outputs": [],
   "source": [
    "#Importing tkinter for developing Graphical User Interface\n",
    "from tkinter import *\n",
    "\n",
    "# tkinter.ttk module provides access to the Tk themed widget set\n",
    "from tkinter.ttk import *\n",
    "\n",
    "#importing strftime function to retrieve system's time\n",
    "from time import strftime"
   ]
  },
  {
   "cell_type": "markdown",
   "id": "047acb4f",
   "metadata": {},
   "source": [
    "# creating tkinter window"
   ]
  },
  {
   "cell_type": "code",
   "execution_count": 18,
   "id": "ee7b679b",
   "metadata": {},
   "outputs": [
    {
     "data": {
      "text/plain": [
       "''"
      ]
     },
     "execution_count": 18,
     "metadata": {},
     "output_type": "execute_result"
    }
   ],
   "source": [
    "root = Tk()\n",
    "root.title('Clock')"
   ]
  },
  {
   "cell_type": "markdown",
   "id": "b9bfdcf9",
   "metadata": {},
   "source": [
    "# Creating function to display time on the label"
   ]
  },
  {
   "cell_type": "code",
   "execution_count": 19,
   "id": "177f675b",
   "metadata": {},
   "outputs": [],
   "source": [
    "def time():\n",
    "    string = strftime('%H:%M:%S %p')\n",
    "    lbl.config(text=string)\n",
    "    lbl.after(1000, time)"
   ]
  },
  {
   "cell_type": "markdown",
   "id": "6ffdc163",
   "metadata": {},
   "source": [
    "# Styling the label widget"
   ]
  },
  {
   "cell_type": "code",
   "execution_count": 20,
   "id": "fc074726",
   "metadata": {},
   "outputs": [],
   "source": [
    "lbl = Label(root, font=('calibri', 40, 'bold'),background='purple',foreground='white')"
   ]
  },
  {
   "cell_type": "markdown",
   "id": "a802de02",
   "metadata": {},
   "source": [
    "# Placing clock at the centre of the tkinter window"
   ]
  },
  {
   "cell_type": "code",
   "execution_count": null,
   "id": "2afe056e",
   "metadata": {},
   "outputs": [],
   "source": [
    "lbl.pack(anchor='center')\n",
    "time()\n",
    "mainloop()"
   ]
  },
  {
   "cell_type": "code",
   "execution_count": null,
   "id": "b96c5484",
   "metadata": {},
   "outputs": [],
   "source": []
  }
 ],
 "metadata": {
  "kernelspec": {
   "display_name": "Python 3 (ipykernel)",
   "language": "python",
   "name": "python3"
  },
  "language_info": {
   "codemirror_mode": {
    "name": "ipython",
    "version": 3
   },
   "file_extension": ".py",
   "mimetype": "text/x-python",
   "name": "python",
   "nbconvert_exporter": "python",
   "pygments_lexer": "ipython3",
   "version": "3.10.9"
  }
 },
 "nbformat": 4,
 "nbformat_minor": 5
}
